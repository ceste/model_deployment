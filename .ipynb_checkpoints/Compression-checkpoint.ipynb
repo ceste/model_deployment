{
 "cells": [
  {
   "cell_type": "code",
   "execution_count": null,
   "metadata": {},
   "outputs": [],
   "source": [
    "from compress_pickle import dump, load\n",
    "import io\n",
    "import pickle\n",
    "from pathlib import Path\n",
    "\n",
    "def load_pickle(filename):\n",
    "    file = open(filename,'rb')\n",
    "    object_file = pickle.load(file)\n",
    "    file.close()\n",
    "    return object_file\n",
    "\n",
    "file = Path('data/model_rf_0.1.0.pkl')\n",
    "model = load_pickle(file)\n",
    "\n",
    "fname3 = \"gzip_compressed_data\"  # The compression must be specified\n",
    "dump(model, fname3, compression=\"lzma\", set_default_extension=False)\n",
    "\n"
   ]
  },
  {
   "cell_type": "code",
   "execution_count": null,
   "metadata": {},
   "outputs": [],
   "source": []
  }
 ],
 "metadata": {
  "kernelspec": {
   "display_name": "Python 3",
   "language": "python",
   "name": "python3"
  },
  "language_info": {
   "codemirror_mode": {
    "name": "ipython",
    "version": 3
   },
   "file_extension": ".py",
   "mimetype": "text/x-python",
   "name": "python",
   "nbconvert_exporter": "python",
   "pygments_lexer": "ipython3",
   "version": "3.7.6"
  }
 },
 "nbformat": 4,
 "nbformat_minor": 4
}
